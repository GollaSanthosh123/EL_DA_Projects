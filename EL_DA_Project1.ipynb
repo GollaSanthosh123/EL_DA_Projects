{
 "cells": [
  {
   "cell_type": "code",
   "execution_count": 13,
   "id": "47d0bd06-b6bf-4f0f-b7df-3236513e434a",
   "metadata": {},
   "outputs": [
    {
     "name": "stdout",
     "output_type": "stream",
     "text": [
      "  Tables_in_retailbusiness\n",
      "0                   retail\n"
     ]
    }
   ],
   "source": [
    "from sqlalchemy import create_engine\n",
    "import pandas as pd\n",
    "import matplotlib.pyplot as plt\n",
    "import seaborn as sns\n",
    "username = \"root\"\n",
    "password = \"Santhosh%40578\"  \n",
    "host = \"localhost\"\n",
    "port = 3306\n",
    "database = \"retailbusiness\"\n",
    "connection_url = f\"mysql+pymysql://{username}:{password}@{host}:{port}/{database}\"\n",
    "engine = create_engine(connection_url)\n",
    "connection = engine.connect()\n",
    "df = pd.read_sql(\"SHOW TABLES\", con=connection)\n",
    "print(df)"
   ]
  },
  {
   "cell_type": "code",
   "execution_count": 24,
   "id": "b93c7af6-ef7b-4fee-bec4-b9d42e5951ff",
   "metadata": {},
   "outputs": [
    {
     "data": {
      "text/html": [
       "<div>\n",
       "<style scoped>\n",
       "    .dataframe tbody tr th:only-of-type {\n",
       "        vertical-align: middle;\n",
       "    }\n",
       "\n",
       "    .dataframe tbody tr th {\n",
       "        vertical-align: top;\n",
       "    }\n",
       "\n",
       "    .dataframe thead th {\n",
       "        text-align: right;\n",
       "    }\n",
       "</style>\n",
       "<table border=\"1\" class=\"dataframe\">\n",
       "  <thead>\n",
       "    <tr style=\"text-align: right;\">\n",
       "      <th></th>\n",
       "      <th>product_id</th>\n",
       "      <th>category</th>\n",
       "      <th>sub_category</th>\n",
       "      <th>region</th>\n",
       "      <th>season</th>\n",
       "      <th>sales</th>\n",
       "      <th>profit</th>\n",
       "      <th>inventory_days</th>\n",
       "    </tr>\n",
       "  </thead>\n",
       "  <tbody>\n",
       "    <tr>\n",
       "      <th>0</th>\n",
       "      <td>4174</td>\n",
       "      <td>Clothing</td>\n",
       "      <td>Pen</td>\n",
       "      <td>South</td>\n",
       "      <td>Fall</td>\n",
       "      <td>200</td>\n",
       "      <td>50</td>\n",
       "      <td>45</td>\n",
       "    </tr>\n",
       "    <tr>\n",
       "      <th>1</th>\n",
       "      <td>1860</td>\n",
       "      <td>Furniture</td>\n",
       "      <td>Laptop</td>\n",
       "      <td>West</td>\n",
       "      <td>Spring</td>\n",
       "      <td>500</td>\n",
       "      <td>70</td>\n",
       "      <td>45</td>\n",
       "    </tr>\n",
       "    <tr>\n",
       "      <th>2</th>\n",
       "      <td>2294</td>\n",
       "      <td>Office Supplies</td>\n",
       "      <td>Unknown</td>\n",
       "      <td>South</td>\n",
       "      <td>Fall</td>\n",
       "      <td>100</td>\n",
       "      <td>0</td>\n",
       "      <td>45</td>\n",
       "    </tr>\n",
       "    <tr>\n",
       "      <th>3</th>\n",
       "      <td>2130</td>\n",
       "      <td>Clothing</td>\n",
       "      <td>Shirt</td>\n",
       "      <td>West</td>\n",
       "      <td>Unknown</td>\n",
       "      <td>200</td>\n",
       "      <td>50</td>\n",
       "      <td>60</td>\n",
       "    </tr>\n",
       "    <tr>\n",
       "      <th>4</th>\n",
       "      <td>2095</td>\n",
       "      <td>Furniture</td>\n",
       "      <td>Shirt</td>\n",
       "      <td>North</td>\n",
       "      <td>Winter</td>\n",
       "      <td>500</td>\n",
       "      <td>0</td>\n",
       "      <td>30</td>\n",
       "    </tr>\n",
       "    <tr>\n",
       "      <th>...</th>\n",
       "      <td>...</td>\n",
       "      <td>...</td>\n",
       "      <td>...</td>\n",
       "      <td>...</td>\n",
       "      <td>...</td>\n",
       "      <td>...</td>\n",
       "      <td>...</td>\n",
       "      <td>...</td>\n",
       "    </tr>\n",
       "    <tr>\n",
       "      <th>1579</th>\n",
       "      <td>1136</td>\n",
       "      <td>Office Supplies</td>\n",
       "      <td>Shirt</td>\n",
       "      <td>West</td>\n",
       "      <td>Unknown</td>\n",
       "      <td>500</td>\n",
       "      <td>-30</td>\n",
       "      <td>30</td>\n",
       "    </tr>\n",
       "    <tr>\n",
       "      <th>1580</th>\n",
       "      <td>3930</td>\n",
       "      <td>Electronics</td>\n",
       "      <td>Chair</td>\n",
       "      <td>East</td>\n",
       "      <td>Spring</td>\n",
       "      <td>0</td>\n",
       "      <td>70</td>\n",
       "      <td>60</td>\n",
       "    </tr>\n",
       "    <tr>\n",
       "      <th>1581</th>\n",
       "      <td>3735</td>\n",
       "      <td>Electronics</td>\n",
       "      <td>Table</td>\n",
       "      <td>North</td>\n",
       "      <td>Fall</td>\n",
       "      <td>0</td>\n",
       "      <td>-10</td>\n",
       "      <td>45</td>\n",
       "    </tr>\n",
       "    <tr>\n",
       "      <th>1582</th>\n",
       "      <td>4911</td>\n",
       "      <td>Electronics</td>\n",
       "      <td>Chair</td>\n",
       "      <td>West</td>\n",
       "      <td>Winter</td>\n",
       "      <td>500</td>\n",
       "      <td>20</td>\n",
       "      <td>60</td>\n",
       "    </tr>\n",
       "    <tr>\n",
       "      <th>1583</th>\n",
       "      <td>2521</td>\n",
       "      <td>Furniture</td>\n",
       "      <td>Pen</td>\n",
       "      <td>East</td>\n",
       "      <td>Unknown</td>\n",
       "      <td>300</td>\n",
       "      <td>-30</td>\n",
       "      <td>0</td>\n",
       "    </tr>\n",
       "  </tbody>\n",
       "</table>\n",
       "<p>1584 rows × 8 columns</p>\n",
       "</div>"
      ],
      "text/plain": [
       "      product_id         category sub_category region   season  sales  profit  \\\n",
       "0           4174         Clothing          Pen  South     Fall    200      50   \n",
       "1           1860        Furniture       Laptop   West   Spring    500      70   \n",
       "2           2294  Office Supplies      Unknown  South     Fall    100       0   \n",
       "3           2130         Clothing        Shirt   West  Unknown    200      50   \n",
       "4           2095        Furniture        Shirt  North   Winter    500       0   \n",
       "...          ...              ...          ...    ...      ...    ...     ...   \n",
       "1579        1136  Office Supplies        Shirt   West  Unknown    500     -30   \n",
       "1580        3930      Electronics        Chair   East   Spring      0      70   \n",
       "1581        3735      Electronics        Table  North     Fall      0     -10   \n",
       "1582        4911      Electronics        Chair   West   Winter    500      20   \n",
       "1583        2521        Furniture          Pen   East  Unknown    300     -30   \n",
       "\n",
       "      inventory_days  \n",
       "0                 45  \n",
       "1                 45  \n",
       "2                 45  \n",
       "3                 60  \n",
       "4                 30  \n",
       "...              ...  \n",
       "1579              30  \n",
       "1580              60  \n",
       "1581              45  \n",
       "1582              60  \n",
       "1583               0  \n",
       "\n",
       "[1584 rows x 8 columns]"
      ]
     },
     "execution_count": 24,
     "metadata": {},
     "output_type": "execute_result"
    }
   ],
   "source": [
    "df=pd.read_sql('select * from retail',con=connection)\n",
    "df"
   ]
  },
  {
   "cell_type": "markdown",
   "id": "000bf014-1cd3-4c9c-a41b-4b1a8e230173",
   "metadata": {},
   "source": [
    "### correlation between inventory days and profitability"
   ]
  },
  {
   "cell_type": "code",
   "execution_count": 11,
   "id": "9e7eddf8-72cb-4145-b98a-f064c62ddde8",
   "metadata": {},
   "outputs": [
    {
     "name": "stdout",
     "output_type": "stream",
     "text": [
      "0.2608230145013932\n"
     ]
    }
   ],
   "source": [
    "correlation=df['inventory_days'].corr(df['profit'])\n",
    "print(correlation)"
   ]
  },
  {
   "cell_type": "markdown",
   "id": "0d4c9420-6ac3-4c18-849d-a576d860b7a9",
   "metadata": {},
   "source": [
    "### ScatterPlot to show correlation between inventory days and profit"
   ]
  },
  {
   "cell_type": "code",
   "execution_count": 40,
   "id": "df9bdd23-9400-4b3e-b427-9b55a5efe58b",
   "metadata": {},
   "outputs": [
    {
     "data": {
      "image/png": "[encoded data removed]",
      "text/plain": [
       "<Figure size 640x480 with 1 Axes>"
      ]
     },
     "metadata": {},
     "output_type": "display_data"
    }
   ],
   "source": [
    "df=pd.DataFrame(df)\n",
    "plt.figure(figsize=(10,6))\n",
    "plt.scatter(df['inventory_days'],df['profit'],s=50,alpha=0.9)\n",
    "plt.title('Correlation between Inventory Days And Profit')\n",
    "plt.xlabel('inventory_days')\n",
    "plt.ylabel('profit')\n",
    "plt.show()"
   ]
  },
  {
   "cell_type": "code",
   "execution_count": null,
   "id": "03bcb912-72b6-4520-9512-116a8ff63daa",
   "metadata": {},
   "outputs": [],
   "source": []
  }
 ],
 "metadata": {
  "kernelspec": {
   "display_name": "Python 3 (ipykernel)",
   "language": "python",
   "name": "python3"
  },
  "language_info": {
   "codemirror_mode": {
    "name": "ipython",
    "version": 3
   },
   "file_extension": ".py",
   "mimetype": "text/x-python",
   "name": "python",
   "nbconvert_exporter": "python",
   "pygments_lexer": "ipython3",
   "version": "3.12.4"
  }
 },
 "nbformat": 4,
 "nbformat_minor": 5
}
